{
 "cells": [
  {
   "cell_type": "code",
   "execution_count": 2,
   "id": "95b359b5-e7ef-45ae-b2b1-ac8af3c7781f",
   "metadata": {},
   "outputs": [],
   "source": [
    "# Url website = https://www.imdb.com/search/title/?groups=top_100"
   ]
  },
  {
   "cell_type": "markdown",
   "id": "d85692dc-3778-4ab2-9c83-075d01e2afb8",
   "metadata": {},
   "source": [
    "In this analysis, I am using BeautifulSoup and Requests to extract data without Selenium. I chose this approach because it is lighter and easier to use for my current needs.\n",
    "\n",
    "However, Selenium is useful when a website loads data using JavaScript, as Requests cannot access data that is not in the original HTML. With Selenium, we can simulate user actions like scrolling and clicking, which helps in extracting data from websites that cannot be accessed directly with Requests.\n",
    "\n",
    "Web scraping can also be done using APIs, which often provide cleaner and more structured data. However, I have no experience using APIs and have never tried them before"
   ]
  },
  {
   "cell_type": "code",
   "execution_count": 3,
   "id": "b0e4d356-6869-4ecc-871a-3a962718f3e7",
   "metadata": {},
   "outputs": [],
   "source": [
    "import pandas as pd\n",
    "import numpy as np\n",
    "import re\n",
    "import matplotlib.pyplot as plt\n",
    "import seaborn as sns\n",
    "import scipy\n",
    "import sklearn\n",
    "\n",
    "import requests\n",
    "from bs4 import BeautifulSoup"
   ]
  },
  {
   "cell_type": "code",
   "execution_count": 4,
   "id": "2c4b69a1-c95b-4e61-abc4-bf000e6ef29e",
   "metadata": {},
   "outputs": [
    {
     "name": "stdout",
     "output_type": "stream",
     "text": [
      "<Response [200]>\n"
     ]
    }
   ],
   "source": [
    "import requests\n",
    "\n",
    "url = 'https://www.imdb.com/search/title/?groups=top_100'\n",
    "\n",
    "# Header untuk meniru pelayar sebenar\n",
    "headers = {\n",
    "    \"User-Agent\": \"Mozilla/5.0 (Windows NT 10.0; Win64; x64) AppleWebKit/537.36 (KHTML, like Gecko) Chrome/122.0.0.0 Safari/537.36\"\n",
    "}\n",
    "\n",
    "imdb_response = requests.get(url, headers=headers)\n",
    "print(imdb_response)\n"
   ]
  },
  {
   "cell_type": "code",
   "execution_count": 5,
   "id": "aa934d32-acef-45e3-ac62-f1fd0613b5a1",
   "metadata": {},
   "outputs": [],
   "source": [
    "soup = BeautifulSoup(imdb_response.text, 'html.parser')"
   ]
  },
  {
   "cell_type": "markdown",
   "id": "c6334e37-810c-443b-93ea-3c3b5bd6fe96",
   "metadata": {},
   "source": [
    "# Let's Scriping using:\n",
    "- BeautifulSoup\n",
    "- Requests\n",
    "- Regex"
   ]
  },
  {
   "cell_type": "code",
   "execution_count": 58,
   "id": "11461d1e-66f8-45d8-93c5-b230abb8a159",
   "metadata": {},
   "outputs": [
    {
     "data": {
      "text/plain": [
       "26"
      ]
     },
     "execution_count": 58,
     "metadata": {},
     "output_type": "execute_result"
    }
   ],
   "source": [
    "titles = soup.find_all('h3', class_=\"ipc-title__text\")\n",
    "titles = [re.sub(r'^\\d+\\.\\s*', '', title.text).strip() for title in titles]\n",
    "len(titles)"
   ]
  },
  {
   "cell_type": "code",
   "execution_count": 29,
   "id": "9d2a7f54-af2d-477b-b76b-6e22461790c4",
   "metadata": {
    "scrolled": true
   },
   "outputs": [
    {
     "data": {
      "text/plain": [
       "25"
      ]
     },
     "execution_count": 29,
     "metadata": {},
     "output_type": "execute_result"
    }
   ],
   "source": [
    "year = soup.find_all('span',class_='dli-title-metadata-item')\n",
    "years = [y.text for y in year if re.match(r'^\\d{4}$', y.text)] \n",
    "len(years)"
   ]
  },
  {
   "cell_type": "code",
   "execution_count": 28,
   "id": "9142d301-afcb-41c4-b67a-799735d14eab",
   "metadata": {},
   "outputs": [
    {
     "data": {
      "text/plain": [
       "25"
      ]
     },
     "execution_count": 28,
     "metadata": {},
     "output_type": "execute_result"
    }
   ],
   "source": [
    "duration = soup.find_all('span',class_='dli-title-metadata-item')\n",
    "durations = [d.text for d in duration if re.match(r'^\\d+h \\d+m$', d.text)]\n",
    "len(durations)"
   ]
  },
  {
   "cell_type": "code",
   "execution_count": 27,
   "id": "b44e4c2f-a2f5-49a7-983e-9b8f1f36a1a9",
   "metadata": {},
   "outputs": [
    {
     "data": {
      "text/plain": [
       "25"
      ]
     },
     "execution_count": 27,
     "metadata": {},
     "output_type": "execute_result"
    }
   ],
   "source": [
    "rating = soup.find_all('span',class_='ipc-rating-star--rating')\n",
    "ratings = [ratings.text for ratings in rating]\n",
    "len(ratings)"
   ]
  },
  {
   "cell_type": "code",
   "execution_count": 34,
   "id": "9710d2ce-ae2c-4a85-8ff9-b58c3ef18ed6",
   "metadata": {},
   "outputs": [
    {
     "data": {
      "text/plain": [
       "25"
      ]
     },
     "execution_count": 34,
     "metadata": {},
     "output_type": "execute_result"
    }
   ],
   "source": [
    "metascore = soup.find_all('span',class_=\"sc-b0901df4-0 bXIOoL metacritic-score-box\")\n",
    "metascores = [m.text for m in metascore]\n",
    "len(metascores)"
   ]
  },
  {
   "cell_type": "code",
   "execution_count": 40,
   "id": "dcf9587a-8983-4abe-978c-7ce31ae9bbe2",
   "metadata": {},
   "outputs": [
    {
     "data": {
      "text/plain": [
       "25"
      ]
     },
     "execution_count": 40,
     "metadata": {},
     "output_type": "execute_result"
    }
   ],
   "source": [
    "synopsis = soup.find_all('div', class_=\"ipc-html-content-inner-div\")\n",
    "synopses = [s.text.strip() for s in synopsis]\n",
    "len(synopses)\n"
   ]
  },
  {
   "cell_type": "code",
   "execution_count": 60,
   "id": "c803cc2b-bfe2-4eb1-8e72-2d96699d09b7",
   "metadata": {},
   "outputs": [
    {
     "data": {
      "text/html": [
       "<div>\n",
       "<style scoped>\n",
       "    .dataframe tbody tr th:only-of-type {\n",
       "        vertical-align: middle;\n",
       "    }\n",
       "\n",
       "    .dataframe tbody tr th {\n",
       "        vertical-align: top;\n",
       "    }\n",
       "\n",
       "    .dataframe thead th {\n",
       "        text-align: right;\n",
       "    }\n",
       "</style>\n",
       "<table border=\"1\" class=\"dataframe\">\n",
       "  <thead>\n",
       "    <tr style=\"text-align: right;\">\n",
       "      <th></th>\n",
       "      <th>Title</th>\n",
       "      <th>Year</th>\n",
       "      <th>Duration</th>\n",
       "      <th>Rating</th>\n",
       "      <th>Metascore</th>\n",
       "      <th>Synopsis</th>\n",
       "    </tr>\n",
       "  </thead>\n",
       "  <tbody>\n",
       "    <tr>\n",
       "      <th>0</th>\n",
       "      <td>Dune: Part Two</td>\n",
       "      <td>2024</td>\n",
       "      <td>2h 46m</td>\n",
       "      <td>8.5</td>\n",
       "      <td>79</td>\n",
       "      <td>Paul Atreides unites with the Fremen while on a warpath of revenge against the conspirators who destroyed his family. Facing a choice between the love of his life and the fate of the universe, he endeavors to prevent a terrible future.</td>\n",
       "    </tr>\n",
       "    <tr>\n",
       "      <th>1</th>\n",
       "      <td>Interstellar</td>\n",
       "      <td>2014</td>\n",
       "      <td>2h 49m</td>\n",
       "      <td>8.7</td>\n",
       "      <td>74</td>\n",
       "      <td>When Earth becomes uninhabitable in the future, a farmer and ex-NASA pilot, Joseph Cooper, is tasked to pilot a spacecraft, along with a team of researchers, to find a new planet for humans.</td>\n",
       "    </tr>\n",
       "    <tr>\n",
       "      <th>2</th>\n",
       "      <td>The Shawshank Redemption</td>\n",
       "      <td>1994</td>\n",
       "      <td>2h 22m</td>\n",
       "      <td>9.3</td>\n",
       "      <td>82</td>\n",
       "      <td>A banker convicted of uxoricide forms a friendship over a quarter century with a hardened convict, while maintaining his innocence and trying to remain hopeful through simple compassion.</td>\n",
       "    </tr>\n",
       "    <tr>\n",
       "      <th>3</th>\n",
       "      <td>Gisaengchung</td>\n",
       "      <td>2019</td>\n",
       "      <td>2h 12m</td>\n",
       "      <td>8.5</td>\n",
       "      <td>97</td>\n",
       "      <td>Greed and class discrimination threaten the newly formed symbiotic relationship between the wealthy Park family and the destitute Kim clan.</td>\n",
       "    </tr>\n",
       "    <tr>\n",
       "      <th>4</th>\n",
       "      <td>The Godfather</td>\n",
       "      <td>1972</td>\n",
       "      <td>2h 55m</td>\n",
       "      <td>9.2</td>\n",
       "      <td>100</td>\n",
       "      <td>The aging patriarch of an organized crime dynasty transfers control of his clandestine empire to his reluctant son.</td>\n",
       "    </tr>\n",
       "  </tbody>\n",
       "</table>\n",
       "</div>"
      ],
      "text/plain": [
       "                      Title  Year Duration Rating Metascore  \\\n",
       "0            Dune: Part Two  2024   2h 46m    8.5        79   \n",
       "1              Interstellar  2014   2h 49m    8.7        74   \n",
       "2  The Shawshank Redemption  1994   2h 22m    9.3        82   \n",
       "3              Gisaengchung  2019   2h 12m    8.5        97   \n",
       "4             The Godfather  1972   2h 55m    9.2       100   \n",
       "\n",
       "                                                                                                                                                                                                                                      Synopsis  \n",
       "0  Paul Atreides unites with the Fremen while on a warpath of revenge against the conspirators who destroyed his family. Facing a choice between the love of his life and the fate of the universe, he endeavors to prevent a terrible future.  \n",
       "1                                               When Earth becomes uninhabitable in the future, a farmer and ex-NASA pilot, Joseph Cooper, is tasked to pilot a spacecraft, along with a team of researchers, to find a new planet for humans.  \n",
       "2                                                   A banker convicted of uxoricide forms a friendship over a quarter century with a hardened convict, while maintaining his innocence and trying to remain hopeful through simple compassion.  \n",
       "3                                                                                                  Greed and class discrimination threaten the newly formed symbiotic relationship between the wealthy Park family and the destitute Kim clan.  \n",
       "4                                                                                                                          The aging patriarch of an organized crime dynasty transfers control of his clandestine empire to his reluctant son.  "
      ]
     },
     "execution_count": 60,
     "metadata": {},
     "output_type": "execute_result"
    }
   ],
   "source": [
    "import pandas as pd\n",
    "pd.set_option('display.max_colwidth', None) \n",
    "\n",
    "df = pd.DataFrame({\n",
    "    'Title': titles[:-1],\n",
    "    'Year': years,\n",
    "    'Duration': durations,\n",
    "    'Rating': ratings,\n",
    "    'Metascore': metascores,\n",
    "    'Synopsis': synopses\n",
    "})\n",
    "\n",
    "df.head()\n"
   ]
  },
  {
   "cell_type": "code",
   "execution_count": 61,
   "id": "f41f7483-9e5d-4f03-9c85-538b44ea88f6",
   "metadata": {},
   "outputs": [],
   "source": [
    "# Save the dataframe\n",
    "\n",
    "df.to_csv('movies_data.csv', index=False) "
   ]
  },
  {
   "cell_type": "code",
   "execution_count": null,
   "id": "972af43c-232f-48a7-a8f9-d0f424ee630c",
   "metadata": {},
   "outputs": [],
   "source": []
  }
 ],
 "metadata": {
  "kernelspec": {
   "display_name": "Python 3 (ipykernel)",
   "language": "python",
   "name": "python3"
  },
  "language_info": {
   "codemirror_mode": {
    "name": "ipython",
    "version": 3
   },
   "file_extension": ".py",
   "mimetype": "text/x-python",
   "name": "python",
   "nbconvert_exporter": "python",
   "pygments_lexer": "ipython3",
   "version": "3.13.0"
  }
 },
 "nbformat": 4,
 "nbformat_minor": 5
}
